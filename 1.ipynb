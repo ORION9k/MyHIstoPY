{
 "cells": [
  {
   "cell_type": "code",
   "execution_count": null,
   "metadata": {},
   "outputs": [],
   "source": [
    "# Informações & Versões\n",
    "print('Olá, seja nem vindo á Woodsvile.')\n",
    "print('A história interativa criada por ORION FREITAS em phyton.')\n",
    "print('Este projeto foi criado para iniciar os conhecimentos de seu autor na linguagem')\n",
    "print('Versão 0.0.1')\n",
    "print('Algumas das escolhas modificam o andamento da história')\n",
    "# Personagem\n",
    "nome = input('Escolha o nome de seu personagem ')\n",
    "idade = input('Escolha a idade de seu personagem ')\n",
    "print(f'Ok, nessa história você será {nome} e terá {idade} anos.' )"
   ]
  },
  {
   "cell_type": "code",
   "execution_count": 3,
   "metadata": {},
   "outputs": [
    {
     "name": "stdout",
     "output_type": "stream",
     "text": [
      "Nossa história se inicia em um dia como qualquer outro na vida de Gabriel\n"
     ]
    }
   ],
   "source": [
    "print(f'Nossa história se inicia em um dia como qualquer outro na vida de {nome}')"
   ]
  }
 ],
 "metadata": {
  "kernelspec": {
   "display_name": "Python 3",
   "language": "python",
   "name": "python3"
  },
  "language_info": {
   "codemirror_mode": {
    "name": "ipython",
    "version": 3
   },
   "file_extension": ".py",
   "mimetype": "text/x-python",
   "name": "python",
   "nbconvert_exporter": "python",
   "pygments_lexer": "ipython3",
   "version": "3.11.4"
  },
  "orig_nbformat": 4
 },
 "nbformat": 4,
 "nbformat_minor": 2
}
